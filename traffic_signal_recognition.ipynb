{
 "cells": [
  {
   "cell_type": "markdown",
   "id": "89c88678",
   "metadata": {},
   "source": [
    "## Importing necessary libraries"
   ]
  },
  {
   "cell_type": "code",
   "execution_count": 1,
   "id": "35d9a8c9",
   "metadata": {},
   "outputs": [],
   "source": [
    "import numpy as np\n",
    "import pandas as pd\n",
    "import matplotlib.pyplot as plt\n",
    "import tensorflow as tf\n",
    "import cv2\n",
    "import os\n",
    "from PIL import Image\n",
    "from sklearn.model_selection import train_test_split\n",
    "from keras.utils.np_utils import to_categorical\n",
    "from keras.models import Sequential\n",
    "from keras.layers import Conv2D, MaxPool2D, Dense, Flatten, Dropout"
   ]
  },
  {
   "cell_type": "markdown",
   "id": "ab52fc26",
   "metadata": {},
   "source": [
    "## Processing all the images"
   ]
  },
  {
   "cell_type": "code",
   "execution_count": 2,
   "id": "1e47d4ec",
   "metadata": {},
   "outputs": [],
   "source": [
    "data = []\n",
    "labels = []\n",
    "classes = 43\n",
    "cur_path = os.getcwd()\n",
    "for i in range(classes):     \n",
    "    path = os.path.join(cur_path,'train',str(i))     \n",
    "    images = os.listdir(path)\n",
    "    for a in images:\n",
    "        try:             \n",
    "            image = Image.open(path +'\\\\'+ a)             \n",
    "            image = image.resize((30,30)) \n",
    "            # Resizing all images into 30*30                                                 \n",
    "            image =np.array(image)             \n",
    "            data.append(image)             \n",
    "            labels.append(i)\n",
    "        except Exception as e:\n",
    "            print(e)\n"
   ]
  },
  {
   "cell_type": "markdown",
   "id": "3f51e66f",
   "metadata": {},
   "source": [
    "## Converting image datalist into NumPy array"
   ]
  },
  {
   "cell_type": "code",
   "execution_count": 3,
   "id": "0679f7e6",
   "metadata": {},
   "outputs": [
    {
     "name": "stdout",
     "output_type": "stream",
     "text": [
      "(39209, 30, 30, 3) (39209,)\n"
     ]
    }
   ],
   "source": [
    "data = np.array(data) \n",
    "labels = np.array(labels)\n",
    "print(data.shape, labels.shape) "
   ]
  },
  {
   "cell_type": "markdown",
   "id": "67cd8541",
   "metadata": {},
   "source": [
    "## Splitting the data into training and testing"
   ]
  },
  {
   "cell_type": "code",
   "execution_count": 4,
   "id": "af20b600",
   "metadata": {},
   "outputs": [
    {
     "name": "stdout",
     "output_type": "stream",
     "text": [
      "(31367, 30, 30, 3) (7842, 30, 30, 3) (31367,) (7842,)\n"
     ]
    }
   ],
   "source": [
    "X_train, X_test, y_train, y_test = train_test_split(data, labels, test_size=0.2, random_state=0)\n",
    "print(X_train.shape, X_test.shape, y_train.shape, y_test.shape) "
   ]
  },
  {
   "cell_type": "markdown",
   "id": "815cb86f",
   "metadata": {},
   "source": [
    "## Converting labels into one hot encoding"
   ]
  },
  {
   "cell_type": "code",
   "execution_count": 5,
   "id": "8ec7a78c",
   "metadata": {},
   "outputs": [],
   "source": [
    "y_train = to_categorical(y_train,43) \n",
    "y_test = to_categorical(y_test,43)"
   ]
  },
  {
   "cell_type": "markdown",
   "id": "f61c9743",
   "metadata": {},
   "source": [
    "## Building the model"
   ]
  },
  {
   "cell_type": "code",
   "execution_count": 6,
   "id": "f783e2d1",
   "metadata": {},
   "outputs": [],
   "source": [
    "model = Sequential()\n",
    "model.add(Conv2D(filters=32, kernel_size=(5,5), activation='relu', input_shape=X_train.shape[1:]))\n",
    "model.add(Conv2D(filters=32, kernel_size=(5,5), activation='relu'))\n",
    "model.add(MaxPool2D(pool_size=(2,2)))\n",
    "model.add(Dropout(rate=0.25)) \n",
    "model.add(Conv2D(filters=64, kernel_size=(3,3), activation='relu'))\n",
    "model.add(Conv2D(filters=64, kernel_size=(3,3), activation='relu')) \n",
    "model.add(MaxPool2D(pool_size=(2,2)))\n",
    "model.add(Dropout(rate=0.25)) \n",
    "model.add(Flatten())\n",
    "model.add(Dense(256, activation='relu'))\n",
    "model.add(Dropout(rate=0.5))\n",
    "model.add(Dense(43, activation='softmax'))"
   ]
  },
  {
   "cell_type": "markdown",
   "id": "23a4d995",
   "metadata": {},
   "source": [
    "## Compilation of the model"
   ]
  },
  {
   "cell_type": "code",
   "execution_count": 7,
   "id": "d262e46b",
   "metadata": {},
   "outputs": [
    {
     "name": "stdout",
     "output_type": "stream",
     "text": [
      "Epoch 1/20\n",
      "981/981 [==============================] - 110s 100ms/step - loss: 1.8908 - accuracy: 0.5261 - val_loss: 0.3933 - val_accuracy: 0.9056\n",
      "Epoch 2/20\n",
      "981/981 [==============================] - 78s 79ms/step - loss: 0.6813 - accuracy: 0.8001 - val_loss: 0.2298 - val_accuracy: 0.9424\n",
      "Epoch 3/20\n",
      "981/981 [==============================] - 72s 73ms/step - loss: 0.4618 - accuracy: 0.8626 - val_loss: 0.1593 - val_accuracy: 0.9596\n",
      "Epoch 4/20\n",
      "981/981 [==============================] - 72s 74ms/step - loss: 0.3722 - accuracy: 0.8901 - val_loss: 0.1228 - val_accuracy: 0.9656\n",
      "Epoch 5/20\n",
      "981/981 [==============================] - 73s 75ms/step - loss: 0.3281 - accuracy: 0.9058 - val_loss: 0.1195 - val_accuracy: 0.9690\n",
      "Epoch 6/20\n",
      "981/981 [==============================] - 83s 85ms/step - loss: 0.2959 - accuracy: 0.9136 - val_loss: 0.1082 - val_accuracy: 0.9695\n",
      "Epoch 7/20\n",
      "981/981 [==============================] - 72s 74ms/step - loss: 0.2987 - accuracy: 0.9160 - val_loss: 0.1019 - val_accuracy: 0.9723\n",
      "Epoch 8/20\n",
      "981/981 [==============================] - 73s 75ms/step - loss: 0.2741 - accuracy: 0.9241 - val_loss: 0.0911 - val_accuracy: 0.9774\n",
      "Epoch 9/20\n",
      "981/981 [==============================] - 75s 76ms/step - loss: 0.2527 - accuracy: 0.9281 - val_loss: 0.0724 - val_accuracy: 0.9810\n",
      "Epoch 10/20\n",
      "981/981 [==============================] - 95s 97ms/step - loss: 0.2505 - accuracy: 0.9297 - val_loss: 0.0699 - val_accuracy: 0.9804\n",
      "Epoch 11/20\n",
      "981/981 [==============================] - 92s 94ms/step - loss: 0.2334 - accuracy: 0.9352 - val_loss: 0.0841 - val_accuracy: 0.9786\n",
      "Epoch 12/20\n",
      "981/981 [==============================] - 90s 91ms/step - loss: 0.2313 - accuracy: 0.9381 - val_loss: 0.0649 - val_accuracy: 0.9829\n",
      "Epoch 13/20\n",
      "981/981 [==============================] - 92s 93ms/step - loss: 0.2483 - accuracy: 0.9348 - val_loss: 0.0609 - val_accuracy: 0.9864\n",
      "Epoch 14/20\n",
      "981/981 [==============================] - 82s 83ms/step - loss: 0.2299 - accuracy: 0.9391 - val_loss: 0.0667 - val_accuracy: 0.9829\n",
      "Epoch 15/20\n",
      "981/981 [==============================] - 77s 78ms/step - loss: 0.2280 - accuracy: 0.9411 - val_loss: 0.0758 - val_accuracy: 0.9793\n",
      "Epoch 16/20\n",
      "981/981 [==============================] - 77s 79ms/step - loss: 0.2353 - accuracy: 0.9367 - val_loss: 0.0796 - val_accuracy: 0.9805\n",
      "Epoch 17/20\n",
      "981/981 [==============================] - 78s 79ms/step - loss: 0.2213 - accuracy: 0.9405 - val_loss: 0.0502 - val_accuracy: 0.9860\n",
      "Epoch 18/20\n",
      "981/981 [==============================] - 78s 79ms/step - loss: 0.2166 - accuracy: 0.9428 - val_loss: 0.0587 - val_accuracy: 0.9862\n",
      "Epoch 19/20\n",
      "981/981 [==============================] - 79s 81ms/step - loss: 0.2189 - accuracy: 0.9460 - val_loss: 0.1391 - val_accuracy: 0.9598\n",
      "Epoch 20/20\n",
      "981/981 [==============================] - 78s 79ms/step - loss: 0.2260 - accuracy: 0.9420 - val_loss: 0.0577 - val_accuracy: 0.9885\n"
     ]
    }
   ],
   "source": [
    "model.compile(loss = 'categorical_crossentropy', optimizer='adam', metrics=['accuracy'])\n",
    "epochs = 20\n",
    "history = model.fit(X_train, y_train, batch_size=32, epochs=epochs, validation_data=(X_test, y_test))"
   ]
  },
  {
   "cell_type": "markdown",
   "id": "b381965f",
   "metadata": {},
   "source": [
    "## Plotting the necessary graphs"
   ]
  },
  {
   "cell_type": "code",
   "execution_count": 8,
   "id": "810542ee",
   "metadata": {},
   "outputs": [
    {
     "data": {
      "text/plain": [
       "<matplotlib.legend.Legend at 0x1bc31147888>"
      ]
     },
     "execution_count": 8,
     "metadata": {},
     "output_type": "execute_result"
    },
    {
     "data": {
      "image/png": "[encoded data removed]",
      "text/plain": [
       "<Figure size 432x288 with 1 Axes>"
      ]
     },
     "metadata": {
      "needs_background": "light"
     },
     "output_type": "display_data"
    },
    {
     "data": {
      "image/png": "[encoded data removed]",
      "text/plain": [
       "<Figure size 432x288 with 1 Axes>"
      ]
     },
     "metadata": {
      "needs_background": "light"
     },
     "output_type": "display_data"
    }
   ],
   "source": [
    "plt.figure(0)\n",
    "plt.plot(history.history['accuracy'], label='training accuracy')\n",
    "plt.plot(history.history['val_accuracy'], label='val_accuracy')\n",
    "plt.title('Accuracy')\n",
    "plt.xlabel('epochs')\n",
    "plt.ylabel('accuracy')\n",
    "plt.legend()\n",
    "\n",
    "plt.figure(1)\n",
    "plt.plot(history.history['loss'], label='training loss')\n",
    "plt.plot(history.history['val_loss'], label='val_loss')\n",
    "plt.title('Loss')\n",
    "plt.xlabel('epochs')\n",
    "plt.ylabel('loss')\n",
    "plt.legend()"
   ]
  },
  {
   "cell_type": "markdown",
   "id": "19d4219f",
   "metadata": {},
   "source": [
    "## Testing the model"
   ]
  },
  {
   "cell_type": "code",
   "execution_count": 9,
   "id": "809ee54c",
   "metadata": {},
   "outputs": [
    {
     "data": {
      "text/plain": [
       "0.9566904196357878"
      ]
     },
     "execution_count": 9,
     "metadata": {},
     "output_type": "execute_result"
    }
   ],
   "source": [
    "from sklearn.metrics import accuracy_score\n",
    "import pandas as pd\n",
    "y_test = pd.read_csv('Test.csv')\n",
    "\n",
    "labels = y_test[\"ClassId\"].values\n",
    "imgs = y_test[\"Path\"].values\n",
    "\n",
    "data=[]\n",
    "\n",
    "for img in imgs:\n",
    "    image = Image.open(img)\n",
    "    image = image.resize((30,30))\n",
    "    data.append(np.array(image))\n",
    "    \n",
    "X_test = np.array(data)\n",
    "\n",
    "pred = np.argmax(model.predict(X_test), axis=-1)\n",
    "\n",
    "# Accuracy with the test data\n",
    "from sklearn.metrics import accuracy_score\n",
    "accuracy_score(labels, pred)"
   ]
  },
  {
   "cell_type": "markdown",
   "id": "8c0337cf",
   "metadata": {},
   "source": [
    "## Saving the model"
   ]
  },
  {
   "cell_type": "code",
   "execution_count": 10,
   "id": "40647305",
   "metadata": {},
   "outputs": [],
   "source": [
    "model.save(\"traffic_signal_classifier.h5\")"
   ]
  },
  {
   "cell_type": "code",
   "execution_count": 1,
   "id": "6c9f43df",
   "metadata": {},
   "outputs": [],
   "source": [
    "import os\n",
    "from keras.models import load_model\n",
    "model = load_model(\"traffic_signal_classifier.h5\")"
   ]
  },
  {
   "cell_type": "code",
   "execution_count": 2,
   "id": "9c5b1e33",
   "metadata": {},
   "outputs": [],
   "source": [
    "classes = { 0:'Speed limit (20km/h)',\n",
    "            1:'Speed limit (30km/h)', \n",
    "            2:'Speed limit (50km/h)', \n",
    "            3:'Speed limit (60km/h)', \n",
    "            4:'Speed limit (70km/h)', \n",
    "            5:'Speed limit (80km/h)', \n",
    "            6:'End of speed limit (80km/h)', \n",
    "            7:'Speed limit (100km/h)', \n",
    "            8:'Speed limit (120km/h)', \n",
    "            9:'No passing', \n",
    "            10:'No passing veh over 3.5 tons', \n",
    "            11:'Right-of-way at intersection', \n",
    "            12:'Priority road', \n",
    "            13:'Yield', \n",
    "            14:'Stop', \n",
    "            15:'No vehicles', \n",
    "            16:'Veh > 3.5 tons prohibited', \n",
    "            17:'No entry', \n",
    "            18:'General caution', \n",
    "            19:'Dangerous curve left', \n",
    "            20:'Dangerous curve right', \n",
    "            21:'Double curve', \n",
    "            22:'Bumpy road', \n",
    "            23:'Slippery road', \n",
    "            24:'Road narrows on the right', \n",
    "            25:'Road work', \n",
    "            26:'Traffic signals', \n",
    "            27:'Pedestrians', \n",
    "            28:'Children crossing', \n",
    "            29:'Bicycles crossing', \n",
    "            30:'Beware of ice/snow',\n",
    "            31:'Wild animals crossing', \n",
    "            32:'End speed + passing limits', \n",
    "            33:'Turn right ahead', \n",
    "            34:'Turn left ahead', \n",
    "            35:'Ahead only', \n",
    "            36:'Go straight or right', \n",
    "            37:'Go straight or left', \n",
    "            38:'Keep right', \n",
    "            39:'Keep left', \n",
    "            40:'Roundabout mandatory', \n",
    "            41:'End of no passing', \n",
    "            42:'End no passing veh > 3.5 tons' }"
   ]
  },
  {
   "cell_type": "code",
   "execution_count": 3,
   "id": "aaafa3f1",
   "metadata": {},
   "outputs": [],
   "source": [
    "from PIL import Image\n",
    "import numpy as np\n",
    "import matplotlib.pyplot as plt\n",
    "def test_on_img(img):\n",
    "    data=[]\n",
    "    image = Image.open(img)\n",
    "    image = image.resize((30,30))\n",
    "    data.append(np.array(image))\n",
    "    X_test=np.array(data)\n",
    "    Y_pred = np.argmax(model.predict(X_test), axis=-1)\n",
    "    return image,Y_pred"
   ]
  },
  {
   "cell_type": "code",
   "execution_count": 5,
   "id": "0e44b646",
   "metadata": {},
   "outputs": [
    {
     "name": "stdout",
     "output_type": "stream",
     "text": [
      "Predicted traffic sign is:  Speed limit (30km/h)\n"
     ]
    },
    {
     "data": {
      "image/png": "[encoded data removed]",
      "text/plain": [
       "<Figure size 432x288 with 1 Axes>"
      ]
     },
     "metadata": {
      "needs_background": "light"
     },
     "output_type": "display_data"
    }
   ],
   "source": [
    "plot,prediction = test_on_img(r'E:\\Traffic Sign Recognition\\Test\\00024.png')\n",
    "s = [str(i) for i in prediction] \n",
    "a = int(\"\".join(s)) \n",
    "print(\"Predicted traffic sign is: \", classes[a])\n",
    "plt.imshow(plot)\n",
    "plt.show()"
   ]
  },
  {
   "cell_type": "code",
   "execution_count": null,
   "id": "f9d9c8f1",
   "metadata": {},
   "outputs": [],
   "source": []
  },
  {
   "cell_type": "code",
   "execution_count": null,
   "id": "7ccbde9b",
   "metadata": {},
   "outputs": [],
   "source": []
  }
 ],
 "metadata": {
  "kernelspec": {
   "display_name": "Python 3 (ipykernel)",
   "language": "python",
   "name": "python3"
  },
  "language_info": {
   "codemirror_mode": {
    "name": "ipython",
    "version": 3
   },
   "file_extension": ".py",
   "mimetype": "text/x-python",
   "name": "python",
   "nbconvert_exporter": "python",
   "pygments_lexer": "ipython3",
   "version": "3.7.9"
  }
 },
 "nbformat": 4,
 "nbformat_minor": 5
}
